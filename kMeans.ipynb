{
 "cells": [
  {
   "cell_type": "code",
   "execution_count": 2,
   "id": "796d1a61-3057-4296-8ccb-012b75ec8168",
   "metadata": {},
   "outputs": [],
   "source": [
    "# If you want, you can use the following function to efficiently compute pairwise distances.\n",
    "# Read the docstring to learn how to use it.\n",
    "from scipy.spatial.distance import cdist\n",
    "import pandas as pd\n",
    "import numpy as np\n",
    "import matplotlib.pyplot as plt\n",
    "import seaborn as sn\n",
    "class KMeans(object):\n",
    "    \n",
    "    def __init__(self, k=3, n_inits=10, random_seed=None):\n",
    "        '''KMeans clustering algorithm.\n",
    "        \n",
    "        Parameters\n",
    "        ----------\n",
    "        k: number of clusters\n",
    "        n_intis: number of initializations\n",
    "        '''\n",
    "        # Parameters\n",
    "        self.k = k\n",
    "        self.n_inits = n_inits\n",
    "        self.random_seed = random_seed\n",
    "        \n",
    "        # The following attributes will be computed through execution of the\n",
    "        # KMeans algorithm in the fit method.\n",
    "        self.centroids_ = None\n",
    "        self.labels_ = None\n",
    "        self.cost_ = None\n",
    "        self.num_iterations_ = 0\n",
    "    \n",
    "    \n",
    "    def fit(self, X):\n",
    "        '''Clusters the dataset X into k clusters.\n",
    "        '''                \n",
    "        \n",
    "        result_n = []\n",
    "        \n",
    "        entries, features = X.shape\n",
    "        \n",
    "        #implement random seed\n",
    "        np.random.seed(self.random_seed)\n",
    "        \n",
    "        #loop: \n",
    "        # 1. calculate distance to data and predict data according to it\n",
    "        # 2. if cost functiuon not converged then calculate mean of predicted data and update centroids\n",
    "        # 3. repeat until cost function is low\n",
    "        cost_old = None\n",
    "        \n",
    "        loops = []\n",
    "        all_costs = np.array([])\n",
    "        inits_data = []\n",
    "        \n",
    "        for i in range(self.n_inits):\n",
    "            #create random centroids from minimum to maximum value of data set\n",
    "            self.centroids_ = np.amin(X) + (np.amax(X)-np.amin(X)) * np.random.rand(self.k, features)\n",
    "            self.centroids_init = self.centroids_\n",
    "            \n",
    "            while(True):\n",
    "                #calculate new labels, new costs\n",
    "                self.labels_ = self.predict(X)\n",
    "                centroids_old = self.centroids_\n",
    "                self.cost_ = self.cost_function(X)\n",
    "\n",
    "                #for each centroid, calculate new mean of data belonging to that centroid\n",
    "                for k in range(self.k):\n",
    "                    new_ = np.mean(X[np.where(np.isclose(self.labels_,k))], axis = 0)\n",
    "                    #ignore if there is no data for centroid\n",
    "                    if(~np.any(np.isnan(new_) == True)):\n",
    "                        self.centroids_[k] = new_\n",
    "\n",
    "                #if old cost difference to new cost is lower than margin, break the loop and stop\n",
    "                if(cost_old is not None):\n",
    "                    if np.abs(self.cost_ - cost_old) < 0.00001:\n",
    "                        break\n",
    "\n",
    "                #set new cost to old cost for next iteration\n",
    "                cost_old = self.cost_\n",
    "                self.num_iterations_ += 1\n",
    "            \n",
    "            all_costs = np.append(all_costs, self.cost_)\n",
    "            inits_data.append([self.centroids_, self.num_iterations_])\n",
    "\n",
    "        self.cost_ = np.min(all_costs)\n",
    "        self.centroids_, self.num_iterations_ = inits_data[np.where(np.isclose(all_costs, self.cost_))[0][-1]]\n",
    "        \n",
    "        return self.centroids_\n",
    "\n",
    "  \n",
    "    def cost_function(self, X):\n",
    "        '''Computes the KMeans cost function for a given dataset X.\n",
    "        '''\n",
    "        #calculate distances\n",
    "        #code is deprecated\n",
    "        '''distances = np.array([cdist(X, np.array([point]), 'euclidean') for point in self.centroids_])\n",
    "        minimums = []\n",
    "        for i in range(len(distances[0])):\n",
    "            #get distance to closest centroid per entry\n",
    "            minimum = distances[:,i].min(axis=0)\n",
    "            minimums.append(minimum)\n",
    "        return np.sum(np.array(minimums)**2)'''\n",
    "    \n",
    "        distances = cdist(X, self.centroids_ , metric='euclidean')\n",
    "        minimums = np.min(distances, axis = 1)\n",
    "        return np.sum(minimums**2)\n",
    "        \n",
    "    \n",
    "    def predict(self, X):\n",
    "        '''Assigns each data point in X to the closest cluster.\n",
    "        \n",
    "        Can only be used after the clustering algorithm has been executed.\n",
    "        '''\n",
    "        \n",
    "        #calculate distance to each centroid\n",
    "        #code is deprecated\n",
    "        '''distances = np.array([cdist(X, np.array([point]), 'euclidean') for point in self.centroids_])\n",
    "        \n",
    "        predictions = []\n",
    "        indexes = []\n",
    "        for i in range(len(distances[0])):\n",
    "            #get distance to closest centroid per entry\n",
    "            minimum = distances[:,i].min(axis=0)\n",
    "            #get index of that centroid\n",
    "            indexes.append(np.where(np.isclose(distances[:,i], minimum))[0][0])\n",
    "        \n",
    "        return indexes'''\n",
    "        \n",
    "        #much easier with argmin lol\n",
    "        distances = cdist(X, self.centroids_, metric='euclidean')\n",
    "        labels = np.argmin(distances, axis=1)\n",
    "        return labels\n",
    "    \n",
    "        #??:\n",
    "        #initialize centroids\n",
    "        \n",
    "        #optimization\n"
   ]
  },
  {
   "cell_type": "code",
   "execution_count": 3,
   "id": "e4cc28fb-6172-4084-aa0b-951f13f9cba6",
   "metadata": {},
   "outputs": [
    {
     "name": "stdout",
     "output_type": "stream",
     "text": [
      "[14.528  6.269  5.382  7.344  6.42   9.798  8.881  9.069  9.162  7.269\n",
      " 13.826 13.32  11.702 11.419 12.99   8.123 14.401  8.723 10.84  12.49\n",
      " 10.199 10.35  14.177  9.029 14.934 26.01  27.961 30.64  25.794 25.336\n",
      " 22.494 30.83  21.015 27.464 26.566 27.377 24.549 28.636 28.192 20.059\n",
      " 27.279 22.921 26.208 27.309 25.69  27.951 22.4   25.051 21.024 22.948\n",
      " 58.23  48.415 58.566 45.412 59.894 58.779 54.519 48.    44.19  52.417\n",
      " 42.029 52.597 57.501 50.149 57.668 45.03  48.523 54.337 47.871 40.927\n",
      " 53.771 40.109 49.843 55.646 46.355]\n"
     ]
    },
    {
     "data": {
      "image/png": "[encoded data removed]",
      "text/plain": [
       "<Figure size 432x288 with 1 Axes>"
      ]
     },
     "metadata": {
      "needs_background": "light"
     },
     "output_type": "display_data"
    }
   ],
   "source": [
    "x1 = np.round(5 + np.random.uniform(0, 10, size = 25),3)\n",
    "y1 = np.round(5 + np.random.uniform(0, 10, size = 25),3)\n",
    "\n",
    "x2 = np.round(20 + np.random.uniform(0, 11, size = 25),3)\n",
    "y2 = np.round(20 + np.random.uniform(0, 11, size = 25),3)\n",
    "\n",
    "x3 = np.round(50 + np.random.uniform(0, 20, size = 25),3) - 10\n",
    "y3 = np.round(50 + np.random.uniform(0, 20, size = 25),3) - 30\n",
    "\n",
    "sample_data = np.append(np.column_stack([x1,y1]), np.column_stack([x2,y2]), axis = 0)\n",
    "sample_data = np.append(sample_data, np.column_stack([x3,y3]), axis = 0)\n",
    "\n",
    "print(sample_data[0:,0])\n",
    "plt.scatter(sample_data[0:,0], sample_data[0:,1])\n",
    "plt.xlabel(\"x\")\n",
    "plt.ylabel(\"y\")\n",
    "plt.title(\"Sample Data for testing the kMeans code\")\n",
    "plt.show()"
   ]
  },
  {
   "cell_type": "code",
   "execution_count": 4,
   "id": "86f93885-eb31-4c34-88c3-0a39e6e001e0",
   "metadata": {},
   "outputs": [
    {
     "name": "stderr",
     "output_type": "stream",
     "text": [
      "C:\\Users\\bruno\\anaconda3\\lib\\site-packages\\numpy\\core\\fromnumeric.py:3419: RuntimeWarning: Mean of empty slice.\n",
      "  return _methods._mean(a, axis=axis, dtype=dtype,\n",
      "C:\\Users\\bruno\\anaconda3\\lib\\site-packages\\numpy\\core\\_methods.py:180: RuntimeWarning: invalid value encountered in true_divide\n",
      "  ret = um.true_divide(\n"
     ]
    },
    {
     "data": {
      "text/plain": [
       "<matplotlib.collections.PathCollection at 0x194556e9ca0>"
      ]
     },
     "execution_count": 4,
     "metadata": {},
     "output_type": "execute_result"
    },
    {
     "data": {
      "image/png": "[encoded data removed]",
      "text/plain": [
       "<Figure size 432x288 with 1 Axes>"
      ]
     },
     "metadata": {
      "needs_background": "light"
     },
     "output_type": "display_data"
    }
   ],
   "source": [
    "kmeans_tester = KMeans(3, 10)\n",
    "kmeans_tester.fit(sample_data)\n",
    "kmeans_tester.centroids_\n",
    "\n",
    "plt.scatter(kmeans_tester.centroids_[:,0], kmeans_tester.centroids_[:,1], c = \"red\")\n",
    "plt.scatter(sample_data[0:,0], sample_data[0:,1], c=kmeans_tester.predict(sample_data))"
   ]
  },
  {
   "cell_type": "code",
   "execution_count": 5,
   "id": "ed533070-e0ad-4082-90f5-d392462f9ac0",
   "metadata": {},
   "outputs": [
    {
     "data": {
      "image/png": "[encoded data removed]",
      "text/plain": [
       "<Figure size 432x288 with 1 Axes>"
      ]
     },
     "metadata": {
      "needs_background": "light"
     },
     "output_type": "display_data"
    }
   ],
   "source": [
    "# by reducing the number of features with pca we improve the performance of K-means\n",
    "#pca = PCA(len(relevant_features)).fit(x,y)\n",
    "#scores_pca = pca.transform(x)\n",
    "\n",
    "wcss = []\n",
    "for i in range(1, 20):\n",
    "    kmeansi = KMeans(i, 10, 42)\n",
    "    kmeansi.fit(sample_data)\n",
    "    wcss.append((i, kmeansi.cost_))\n",
    "    \n",
    "kmeans_scores = pd.DataFrame(wcss, columns=['n_clusters', 'wcss'])\n",
    "\n",
    "plt.plot(kmeans_scores)\n",
    "#fig.add_vline(x=3, line_color='red', line_dash='dot')\n",
    "plt.show()"
   ]
  }
 ],
 "metadata": {
  "kernelspec": {
   "display_name": "Python 3",
   "language": "python",
   "name": "python3"
  },
  "language_info": {
   "codemirror_mode": {
    "name": "ipython",
    "version": 3
   },
   "file_extension": ".py",
   "mimetype": "text/x-python",
   "name": "python",
   "nbconvert_exporter": "python",
   "pygments_lexer": "ipython3",
   "version": "3.8.8"
  }
 },
 "nbformat": 4,
 "nbformat_minor": 5
}
